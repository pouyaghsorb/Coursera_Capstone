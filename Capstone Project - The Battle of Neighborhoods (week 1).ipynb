{
 "cells": [
  {
   "cell_type": "markdown",
   "metadata": {},
   "source": [
    "# Capstone Project - The Battle of Neighborhoods (week 1)\n"
   ]
  },
  {
   "cell_type": "markdown",
   "metadata": {},
   "source": [
    "## Description of the problem:\n"
   ]
  },
  {
   "cell_type": "markdown",
   "metadata": {},
   "source": [
    "Denmark is a Scandinavian country located in the north of Europe and is known as one of the big leading nations toward green mobility and the reduction of fossil fuel consumption. Using bikes is one of the most common movements toward a green community in Denmark. In fact, nearly 60% of Danish people use bike for their daily needs [1] Here I have provided some of the main reasons I assume that have made bikes very useful in Denmark:"
   ]
  },
  {
   "cell_type": "markdown",
   "metadata": {},
   "source": [
    "<ul>\n",
    "  <li>The geographic condition of Denmark as a country that does not have high variation of altitude has made it a good spot for bike lovers.</li>\n",
    "  <li>In other words, having no hills and ups and downs in the streets make it very easy for different age range of people to use their bike for their daily commuting route to their school, work and etc.</li>\n",
    "  <li>The high taxes of the fuel and rather expensive prices for public transportations, have turned bikes very valuable means of transportation for people</li>\n",
    "</ul>"
   ]
  },
  {
   "cell_type": "markdown",
   "metadata": {},
   "source": [
    "## Now whats the problem/issue?"
   ]
  },
  {
   "cell_type": "markdown",
   "metadata": {},
   "source": [
    "Despite the fact that using bikes is very common in Denmark, the bike services are not very reasonable. This means there are either not enough spots that you can have your bikes fixed, or the prices are very expensive."
   ]
  },
  {
   "cell_type": "markdown",
   "metadata": {},
   "source": [
    "## Let's dig into the problem :\n"
   ]
  },
  {
   "cell_type": "markdown",
   "metadata": {},
   "source": [
    "Based on DTU website, there are currently 12894 active students studying in the technical university of Denmark (DTU) [2], which is one of the most famous engineering universities in the Europe with the QS world University ranking of 103 [3] When it comes to students, financial aspects become one of the most crucial points. However, there are two issues I have faced as a student in DTU:\n",
    "\n",
    "<ol>\n",
    "<li>There is high price of bike services(it can be around 300 dkk for a normal service) [4]</li>\n",
    "<li>There are not sufficient service points around DTU</li>\n",
    "<li>There is a time limit</li>\n",
    "</ol>\n",
    "\n",
    "For me, the third one was very important. Imagine you are stuck somewhere in a cold day at the middle of the night, but you face a flat tire. Some areas are not covered by the public transport after some hours of the day (for example after 8 pm), imagine you face an issue in your bike. what can you do?? :)"
   ]
  },
  {
   "cell_type": "markdown",
   "metadata": {},
   "source": [
    "## What I am suggesting:\n"
   ]
  },
  {
   "cell_type": "markdown",
   "metadata": {},
   "source": [
    "As a person who has lived in Denmark I totally understand that the reason for high service peices in Denmark is due to the high salaries and in general high service fees, but how can we do something that both students (usually low income compared with normal people) and service providers (expecting reasonable income) have benefit? My suggestion is:\n",
    "\n",
    "<ol>\n",
    "<li>having low peices means lower profit, but in a community of nearly 13000 people (students of DTU), even a profit of one cent can be very big</li>\n",
    "<li>Providing remote services. Many of us have seen small vending machines in the metro stations and so on, that provide some small services like drinks, chips and so on. why not having the same thing for bike services?</li>\n",
    "<li>DTU has different sections inside the campus that provides tools such as wrench, keys and so on(24h), so, just providing a vending machine that has some very basic things such as lights, tubes, tires, and so on can be amazingly handy for emergency situations</li>\n",
    "<li>despite a normal vending machine that requires cooling systems, normal bike facilities can be exempt of that, so no specific design would be required</li>\n",
    "</ol>"
   ]
  },
  {
   "cell_type": "markdown",
   "metadata": {},
   "source": [
    "## How to use data analysis to fix this issue\n"
   ]
  },
  {
   "cell_type": "markdown",
   "metadata": {},
   "source": [
    "The best usage of data is to find the best spot for placing a bike repair shop or as stated earlier, setting a vending machine to sell the necessary emergency things required for having a self service repair for the community of people using bikes around DTU. The topics that can be covered are:"
   ]
  },
  {
   "cell_type": "markdown",
   "metadata": {},
   "source": [
    "<ul>\n",
    "  <li>Finding the population of people living in the vicinity of DTU</li>\n",
    "  <li>showing the best spots that can be spotted easier for people (around stations, DTU labs, bike shelters, etc), so you can do the repair in a relax area (no wind, rain, snow, etc)</li>\n",
    "  <li>Showing the profit of giving discounts, outside of working hour services, etc, to attract costumers</li>\n",
    "</ul>"
   ]
  },
  {
   "cell_type": "markdown",
   "metadata": {},
   "source": [
    "## The Data that can be used:\n"
   ]
  },
  {
   "cell_type": "markdown",
   "metadata": {},
   "source": [
    "<ul>\n",
    "  <li>Importing the map of Denmark, showing the location of DTU on the map</li>\n",
    "  <li>Showing the neighborhoods (postal codes) that are covered around the university, so those can be benefited also\n",
    "</li>\n",
    "  <li>Showing the population of each region as per postal code data</li>\n",
    "  <li>Showing the size/area of each reagion, which helps alot in this project as we do not have the sub region postal data. Therfore, a better understanding of the data we are working with can be provided with this technique</li>  \n",
    "</ul>"
   ]
  },
  {
   "cell_type": "markdown",
   "metadata": {},
   "source": [
    "# The detailed explanation of using each data point for this project has been illustrated in the next report (week 2)¶\n"
   ]
  },
  {
   "cell_type": "code",
   "execution_count": null,
   "metadata": {},
   "outputs": [],
   "source": []
  }
 ],
 "metadata": {
  "kernelspec": {
   "display_name": "Python 3",
   "language": "python",
   "name": "python3"
  },
  "language_info": {
   "codemirror_mode": {
    "name": "ipython",
    "version": 3
   },
   "file_extension": ".py",
   "mimetype": "text/x-python",
   "name": "python",
   "nbconvert_exporter": "python",
   "pygments_lexer": "ipython3",
   "version": "3.7.3"
  }
 },
 "nbformat": 4,
 "nbformat_minor": 4
}
